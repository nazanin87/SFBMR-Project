{
 "cells": [
  {
   "cell_type": "code",
   "execution_count": 7,
   "metadata": {},
   "outputs": [],
   "source": [
    "import requests\n",
    "import re\n",
    "\n",
    "def convert_match(match):\n",
    "    # returns the score value, returns -1 if null\n",
    "    if match:\n",
    "        score = match.group(1)\n",
    "        if score == \"null\":\n",
    "            score = -1\n",
    "        else:\n",
    "            score = float(score)\n",
    "    else:\n",
    "        score = None\n",
    "    return score\n",
    "    \n",
    "def parse_output(text):\n",
    "    walk = convert_match(re.search(r\"\\\"walkscore\\\": ([\\w\\d]+)\", text))\n",
    "    transit = convert_match(re.search(r\"\\\"transit\\\" : {\\\"score\\\": ([\\w\\d]*)\", text))\n",
    "    bike = convert_match(re.search(r\"\\\"bike\\\" : {\\\"score\\\": ([\\w\\d]*)\", text))\n",
    "    return (walk, transit, bike)\n",
    "\n",
    "def get_scores(address, lat, lon, key='13ed724b1cb7f6f61ed46bea1629502c'):\n",
    "    address = address.replace(' ', '%20')\n",
    "    lookup = \"http://api.walkscore.com/score?format=json&address=\" + address + \\\n",
    "    \"&lat=\" + str(lat) + \"&lon=\" + str(lon) + \"&transit=1&bike=1&wsapikey=\" + key\n",
    "    req = requests.get(lookup)\n",
    "    return parse_output(req.text)"
   ]
  },
  {
   "cell_type": "code",
   "execution_count": 8,
   "metadata": {},
   "outputs": [
    {
     "name": "stdout",
     "output_type": "stream",
     "text": [
      "walk 98.000000, transit -1.000000, bike 98.000000\n"
     ]
    }
   ],
   "source": [
    "#example address\n",
    "scores = get_scores(\"550 S Van Ness Ave, San Francisco, CA 94110\", 37.764463, -122.418068)\n",
    "print(\"walk %f, transit %f, bike %f\" % scores)"
   ]
  },
  {
   "cell_type": "code",
   "execution_count": 9,
   "metadata": {},
   "outputs": [
    {
     "name": "stdout",
     "output_type": "stream",
     "text": [
      "walk 98.000000, transit -1.000000, bike 72.000000\n"
     ]
    }
   ],
   "source": [
    "scores = get_scores(\"1119 8th Ave S, Seattle, WA 98101\", 47.6085, -122.3295)\n",
    "print(\"walk %f, transit %f, bike %f\" % scores)"
   ]
  }
 ],
 "metadata": {
  "kernelspec": {
   "display_name": "Python 3 (ipykernel)",
   "language": "python",
   "name": "python3"
  },
  "language_info": {
   "codemirror_mode": {
    "name": "ipython",
    "version": 3
   },
   "file_extension": ".py",
   "mimetype": "text/x-python",
   "name": "python",
   "nbconvert_exporter": "python",
   "pygments_lexer": "ipython3",
   "version": "3.9.7"
  }
 },
 "nbformat": 4,
 "nbformat_minor": 2
}
