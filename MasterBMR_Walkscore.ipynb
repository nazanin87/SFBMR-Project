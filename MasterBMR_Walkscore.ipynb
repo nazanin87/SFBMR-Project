{
 "cells": [
  {
   "cell_type": "code",
   "execution_count": 1,
   "metadata": {},
   "outputs": [],
   "source": [
    "import os\n",
    "import pandas as pd\n",
    "import matplotlib.pyplot as plt\n",
    "import numpy as np"
   ]
  },
  {
   "cell_type": "code",
   "execution_count": 2,
   "metadata": {},
   "outputs": [],
   "source": [
    "def getPath():\n",
    "    \n",
    "    # add your path to this list\n",
    "    paths = ['/Users/nazan/Desktop/SF Housing/Data/']\n",
    "\n",
    "    for path in paths:\n",
    "        if os.path.exists(path):\n",
    "            mainPath = path\n",
    "            break\n",
    "        else:\n",
    "            raise Exception('Your path not found. Add it to the list of paths')\n",
    "    return mainPath\n",
    "    \n",
    "def loadApplicantData():\n",
    "    path = getPath()\n",
    "    applicantDf = pd.read_excel(path+'Master BMR Project List - IH 2018114.xlsx')\n",
    "    return applicantDf\n",
    "\n",
    "def loadApplicantData1():\n",
    "    path = getPath()\n",
    "    applicantDf1 = pd.read_excel(path+'MasterBMR_Walkscore.csv')\n",
    "    return applicantDf1\n",
    "\n",
    "def loadApplicantData2():\n",
    "    path = getPath()\n",
    "    applicantDf2 = pd.read_excel(path+'alltransit_data_blkgrps_SF.csv')\n",
    "    return applicantDf2\n",
    "\n",
    "import requests\n",
    "import re\n",
    "\n",
    "def convert_match(match):\n",
    "    # returns the score value, returns -1 if null\n",
    "    if match:\n",
    "        score = match.group(1)\n",
    "        if score == \"null\":\n",
    "            score = -1\n",
    "        else:\n",
    "            score = float(score)\n",
    "    else:\n",
    "        score = None\n",
    "    return score\n",
    "    \n",
    "def parse_output(text):\n",
    "    walk = convert_match(re.search(r\"\\\"walkscore\\\": ([\\w\\d]+)\", text))\n",
    "    transit = convert_match(re.search(r\"\\\"transit\\\" : {\\\"score\\\": ([\\w\\d]*)\", text))\n",
    "    bike = convert_match(re.search(r\"\\\"bike\\\" : {\\\"score\\\": ([\\w\\d]*)\", text))\n",
    "    return (walk, transit, bike)\n",
    "\n",
    "def get_scores(address, lat, lon, key='13ed724b1cb7f6f61ed46bea1629502c'):\n",
    "    address = address.replace(' ', '%20')\n",
    "    lookup = \"http://api.walkscore.com/score?format=json&address=\" + address + \\\n",
    "    \"&lat=\" + str(lat) + \"&lon=\" + str(lon) + \"&transit=1&bike=1&wsapikey=\" + key\n",
    "    req = requests.get(lookup)\n",
    "    return parse_output(req.text)"
   ]
  },
  {
   "cell_type": "code",
   "execution_count": 3,
   "metadata": {},
   "outputs": [],
   "source": [
    "def final_table(resi_proj,output_path):\n",
    "    master_BMR = loadApplicantData() # the BMR table\n",
    "    proj = pd.read_excel(resi_proj)\n",
    "    mod_proj = proj[proj['Project ID'].isin(master_BMR['Project ID'])]\n",
    "    mod_proj.index = range(len(mod_proj))\n",
    "\n",
    "    walkscore = []\n",
    "    transitscore = []\n",
    "    bikescore = []\n",
    "    \n",
    "    for idx, row in mod_proj.iterrows():\n",
    "        project_id = row['Project ID']\n",
    "        address = str(row['Street Number'])+' '+row['Street Name']+', San Francisco, CA'\n",
    "        lat =row['Latitude']\n",
    "        lon =row['Longitude']\n",
    "        scores = get_scores(address, lat = lat, lon= lon) # may need to get lat and lon as well\n",
    "        walkscore.append(scores[0])\n",
    "        transitscore.append(scores[1])\n",
    "        bikescore.append(scores[2])\n",
    "\n",
    "    mod_proj['walkscore'] = walkscore\n",
    "    mod_proj['transitscore'] = transitscore\n",
    "    mod_proj['bikescore'] = bikescore\n",
    "    \n",
    "    mod_proj.to_csv(output_path)\n",
    "    \n",
    "    #return mod_proj"
   ]
  },
  {
   "cell_type": "code",
   "execution_count": 4,
   "metadata": {},
   "outputs": [
    {
     "name": "stderr",
     "output_type": "stream",
     "text": [
      "C:\\Users\\nazan\\Anaconda3\\lib\\site-packages\\ipykernel_launcher.py:21: SettingWithCopyWarning: \n",
      "A value is trying to be set on a copy of a slice from a DataFrame.\n",
      "Try using .loc[row_indexer,col_indexer] = value instead\n",
      "\n",
      "See the caveats in the documentation: http://pandas.pydata.org/pandas-docs/stable/indexing.html#indexing-view-versus-copy\n",
      "C:\\Users\\nazan\\Anaconda3\\lib\\site-packages\\ipykernel_launcher.py:22: SettingWithCopyWarning: \n",
      "A value is trying to be set on a copy of a slice from a DataFrame.\n",
      "Try using .loc[row_indexer,col_indexer] = value instead\n",
      "\n",
      "See the caveats in the documentation: http://pandas.pydata.org/pandas-docs/stable/indexing.html#indexing-view-versus-copy\n",
      "C:\\Users\\nazan\\Anaconda3\\lib\\site-packages\\ipykernel_launcher.py:23: SettingWithCopyWarning: \n",
      "A value is trying to be set on a copy of a slice from a DataFrame.\n",
      "Try using .loc[row_indexer,col_indexer] = value instead\n",
      "\n",
      "See the caveats in the documentation: http://pandas.pydata.org/pandas-docs/stable/indexing.html#indexing-view-versus-copy\n"
     ]
    }
   ],
   "source": [
    "final_table(\"/Users/nazan/Desktop/SF Housing/Data/Residential Projects with Inclusionary Requirements Updated FILTERED (proper latitude).xlsx\",\n",
    "               \"/Users/nazan/Desktop/SF Housing/Data/MasterBMR_Walkscore.csv\")"
   ]
  },
  {
   "cell_type": "code",
   "execution_count": null,
   "metadata": {},
   "outputs": [],
   "source": []
  },
  {
   "cell_type": "code",
   "execution_count": null,
   "metadata": {},
   "outputs": [],
   "source": [
    "def final_file(CNT,walkscore):\n",
    "    walkscore = loadApplicantData1() # the MasterBMR_Walkscore table\n",
    "    proj = pd.read_excel('alltransit_data_blkgrps_SF.csv')\n",
    "    bmr_proj = proj[proj['blkgrp'].isin(walkscore['GEOID'])]\n",
    "    bmr_proj.index = range(len(bmr_proj))"
   ]
  },
  {
   "cell_type": "code",
   "execution_count": null,
   "metadata": {},
   "outputs": [],
   "source": [
    "merged = bmr_proj.merge(walkscore, how = 'right' on='GEOID')\n",
    "merged.to_csv(\"MasterBMR_Final.csv\", index=False)"
   ]
  }
 ],
 "metadata": {
  "kernelspec": {
   "display_name": "Python 3 (ipykernel)",
   "language": "python",
   "name": "python3"
  },
  "language_info": {
   "codemirror_mode": {
    "name": "ipython",
    "version": 3
   },
   "file_extension": ".py",
   "mimetype": "text/x-python",
   "name": "python",
   "nbconvert_exporter": "python",
   "pygments_lexer": "ipython3",
   "version": "3.9.7"
  }
 },
 "nbformat": 4,
 "nbformat_minor": 2
}
